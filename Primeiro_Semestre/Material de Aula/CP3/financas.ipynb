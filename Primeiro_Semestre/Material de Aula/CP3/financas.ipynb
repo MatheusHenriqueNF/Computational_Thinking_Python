{
 "cells": [
  {
   "cell_type": "code",
   "execution_count": null,
   "metadata": {},
   "outputs": [],
   "source": [
    "#Funcionalidades: - Adicionar transações (receitas e despesas) - Visualizar o saldo atual - Gerar um relatório de transações - Categorizar transações\n",
    "\n",
    "#Estruturas de Dados: Utilize listas para armazenar as transações, onde cada transação é um dicionário contendo tipo (receita ou despesa), valor, categoria, e data. Dicionários podem ser usados para categorizar as transações e calcular totais por categoria.\n",
    "\n",
    "def transacaoEntrada():\n",
    "    pass\n",
    "\n",
    "def transacaoSaida():\n",
    "    pass\n",
    "\n",
    "def saldoAtual():\n",
    "    pass\n",
    "\n",
    "def relatorioTransacoes():\n",
    "    pass\n",
    "\n",
    "def categorizarTransacoes():\n",
    "    pass\n",
    "\n",
    "def main():\n",
    "    pass\n",
    "\n",
    "if __name__ == \"__main__\":\n",
    "    main()"
   ]
  }
 ],
 "metadata": {
  "language_info": {
   "name": "python"
  }
 },
 "nbformat": 4,
 "nbformat_minor": 2
}

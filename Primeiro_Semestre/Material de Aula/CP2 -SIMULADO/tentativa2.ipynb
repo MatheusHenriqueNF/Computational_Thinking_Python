{
 "cells": [
  {
   "cell_type": "code",
   "execution_count": null,
   "metadata": {},
   "outputs": [],
   "source": [
    "# 1) Função para solicitar ao usuário o período a ser analisado\n",
    "# 1) Uma função `solicitar_periodo` que solicita ao usuário o\n",
    "# período: quantas semanas e quantos dias por semana.\n",
    "# A função retorna uma lista com os dois valores.\n",
    "\n",
    "def solitar_periodo():\n",
    "    semanas = int(input('SEMANA'))\n",
    "    dias = int(input('DIAS'))\n",
    "\n",
    "    periodo = [semanas, dias]\n",
    "    return periodo\n",
    "\n",
    "\n",
    "\n",
    "# 2) Função para registrar/mapear os consumos\n",
    "# Uma função mapear_consumo para registrar/mapear os consumos.\n",
    "# A função **`recebe`** uma lista com com os periodo - OKAY\n",
    "# e ***retorna*** uma matriz preenchida pelos registros de consumos.\n",
    "\n",
    "def mapear_consumo(lista_periodo):\n",
    "    semana = lista_periodo[0]\n",
    "    dia = lista_periodo[1]\n",
    "\n",
    "    for s in range(lista_periodo):\n",
    "        for d in range(lista_periodo[s]):\n",
    "            \n",
    "def main():\n",
    "    periodo = solicitar_periodo()\n",
    "    registro = mapear_consumo(periodo)\n",
    " \n",
    "# Não apagar as linhas abaixo.\n",
    "if __name__ == '__main__':\n",
    "    main()"
   ]
  }
 ],
 "metadata": {
  "language_info": {
   "name": "python"
  }
 },
 "nbformat": 4,
 "nbformat_minor": 2
}
